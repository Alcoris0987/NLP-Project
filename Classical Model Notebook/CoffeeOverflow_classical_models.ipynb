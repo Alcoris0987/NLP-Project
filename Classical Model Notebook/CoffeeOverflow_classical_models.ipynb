{
  "cells": [
    {
      "cell_type": "markdown",
      "source": [
        "## Preparing the dataset"
      ],
      "metadata": {
        "id": "P25skJQx8UBR"
      }
    },
    {
      "cell_type": "code",
      "execution_count": null,
      "metadata": {
        "id": "ZR6f-W6kiOi8",
        "colab": {
          "base_uri": "https://localhost:8080/"
        },
        "outputId": "0e9f7a21-3494-4c27-b05e-2b6b7b4949b6"
      },
      "outputs": [
        {
          "output_type": "stream",
          "name": "stdout",
          "text": [
            "Requirement already satisfied: emoji in /usr/local/lib/python3.7/dist-packages (1.7.0)\n"
          ]
        }
      ],
      "source": [
        "! pip install emoji --upgrade\n",
        "import emoji\n",
        "# Converts emojis to strings"
      ]
    },
    {
      "cell_type": "code",
      "execution_count": null,
      "metadata": {
        "id": "iiyajJNXQ3Dt"
      },
      "outputs": [],
      "source": [
        "import numpy as np\n",
        "import pandas as pd\n",
        "\n",
        "np.random.seed(42069)"
      ]
    },
    {
      "cell_type": "markdown",
      "source": [
        "Load the Training data"
      ],
      "metadata": {
        "id": "tcv2ETso7g2K"
      }
    },
    {
      "cell_type": "code",
      "execution_count": null,
      "metadata": {
        "colab": {
          "base_uri": "https://localhost:8080/",
          "height": 424
        },
        "id": "R5z-paLwQvz1",
        "outputId": "8f14a3a6-1727-4781-80c8-84e36ccf3a70"
      },
      "outputs": [
        {
          "output_type": "execute_result",
          "data": {
            "text/plain": [
              "          id                                              tweet subtask_a  \\\n",
              "0      86426  @USER She should ask a few native Americans wh...       OFF   \n",
              "1      90194  @USER @USER Go home you’re drunk!!! @USER #MAG...       OFF   \n",
              "2      16820  Amazon is investigating Chinese employees who ...       NOT   \n",
              "3      62688  @USER Someone should'veTaken\" this piece of sh...       OFF   \n",
              "4      43605  @USER @USER Obama wanted liberals &amp; illega...       NOT   \n",
              "...      ...                                                ...       ...   \n",
              "13235  95338  @USER Sometimes I get strong vibes from people...       OFF   \n",
              "13236  67210  Benidorm ✅  Creamfields ✅  Maga ✅   Not too sh...       NOT   \n",
              "13237  82921  @USER And why report this garbage.  We don't g...       OFF   \n",
              "13238  27429                                        @USER Pussy       OFF   \n",
              "13239  46552  #Spanishrevenge vs. #justice #HumanRights and ...       NOT   \n",
              "\n",
              "      subtask_b subtask_c  \n",
              "0           UNT       NaN  \n",
              "1           TIN       IND  \n",
              "2           NaN       NaN  \n",
              "3           UNT       NaN  \n",
              "4           NaN       NaN  \n",
              "...         ...       ...  \n",
              "13235       TIN       IND  \n",
              "13236       NaN       NaN  \n",
              "13237       TIN       OTH  \n",
              "13238       UNT       NaN  \n",
              "13239       NaN       NaN  \n",
              "\n",
              "[13240 rows x 5 columns]"
            ],
            "text/html": [
              "\n",
              "  <div id=\"df-ba39ef0d-1f25-4c72-99df-488b35fb7302\">\n",
              "    <div class=\"colab-df-container\">\n",
              "      <div>\n",
              "<style scoped>\n",
              "    .dataframe tbody tr th:only-of-type {\n",
              "        vertical-align: middle;\n",
              "    }\n",
              "\n",
              "    .dataframe tbody tr th {\n",
              "        vertical-align: top;\n",
              "    }\n",
              "\n",
              "    .dataframe thead th {\n",
              "        text-align: right;\n",
              "    }\n",
              "</style>\n",
              "<table border=\"1\" class=\"dataframe\">\n",
              "  <thead>\n",
              "    <tr style=\"text-align: right;\">\n",
              "      <th></th>\n",
              "      <th>id</th>\n",
              "      <th>tweet</th>\n",
              "      <th>subtask_a</th>\n",
              "      <th>subtask_b</th>\n",
              "      <th>subtask_c</th>\n",
              "    </tr>\n",
              "  </thead>\n",
              "  <tbody>\n",
              "    <tr>\n",
              "      <th>0</th>\n",
              "      <td>86426</td>\n",
              "      <td>@USER She should ask a few native Americans wh...</td>\n",
              "      <td>OFF</td>\n",
              "      <td>UNT</td>\n",
              "      <td>NaN</td>\n",
              "    </tr>\n",
              "    <tr>\n",
              "      <th>1</th>\n",
              "      <td>90194</td>\n",
              "      <td>@USER @USER Go home you’re drunk!!! @USER #MAG...</td>\n",
              "      <td>OFF</td>\n",
              "      <td>TIN</td>\n",
              "      <td>IND</td>\n",
              "    </tr>\n",
              "    <tr>\n",
              "      <th>2</th>\n",
              "      <td>16820</td>\n",
              "      <td>Amazon is investigating Chinese employees who ...</td>\n",
              "      <td>NOT</td>\n",
              "      <td>NaN</td>\n",
              "      <td>NaN</td>\n",
              "    </tr>\n",
              "    <tr>\n",
              "      <th>3</th>\n",
              "      <td>62688</td>\n",
              "      <td>@USER Someone should'veTaken\" this piece of sh...</td>\n",
              "      <td>OFF</td>\n",
              "      <td>UNT</td>\n",
              "      <td>NaN</td>\n",
              "    </tr>\n",
              "    <tr>\n",
              "      <th>4</th>\n",
              "      <td>43605</td>\n",
              "      <td>@USER @USER Obama wanted liberals &amp;amp; illega...</td>\n",
              "      <td>NOT</td>\n",
              "      <td>NaN</td>\n",
              "      <td>NaN</td>\n",
              "    </tr>\n",
              "    <tr>\n",
              "      <th>...</th>\n",
              "      <td>...</td>\n",
              "      <td>...</td>\n",
              "      <td>...</td>\n",
              "      <td>...</td>\n",
              "      <td>...</td>\n",
              "    </tr>\n",
              "    <tr>\n",
              "      <th>13235</th>\n",
              "      <td>95338</td>\n",
              "      <td>@USER Sometimes I get strong vibes from people...</td>\n",
              "      <td>OFF</td>\n",
              "      <td>TIN</td>\n",
              "      <td>IND</td>\n",
              "    </tr>\n",
              "    <tr>\n",
              "      <th>13236</th>\n",
              "      <td>67210</td>\n",
              "      <td>Benidorm ✅  Creamfields ✅  Maga ✅   Not too sh...</td>\n",
              "      <td>NOT</td>\n",
              "      <td>NaN</td>\n",
              "      <td>NaN</td>\n",
              "    </tr>\n",
              "    <tr>\n",
              "      <th>13237</th>\n",
              "      <td>82921</td>\n",
              "      <td>@USER And why report this garbage.  We don't g...</td>\n",
              "      <td>OFF</td>\n",
              "      <td>TIN</td>\n",
              "      <td>OTH</td>\n",
              "    </tr>\n",
              "    <tr>\n",
              "      <th>13238</th>\n",
              "      <td>27429</td>\n",
              "      <td>@USER Pussy</td>\n",
              "      <td>OFF</td>\n",
              "      <td>UNT</td>\n",
              "      <td>NaN</td>\n",
              "    </tr>\n",
              "    <tr>\n",
              "      <th>13239</th>\n",
              "      <td>46552</td>\n",
              "      <td>#Spanishrevenge vs. #justice #HumanRights and ...</td>\n",
              "      <td>NOT</td>\n",
              "      <td>NaN</td>\n",
              "      <td>NaN</td>\n",
              "    </tr>\n",
              "  </tbody>\n",
              "</table>\n",
              "<p>13240 rows × 5 columns</p>\n",
              "</div>\n",
              "      <button class=\"colab-df-convert\" onclick=\"convertToInteractive('df-ba39ef0d-1f25-4c72-99df-488b35fb7302')\"\n",
              "              title=\"Convert this dataframe to an interactive table.\"\n",
              "              style=\"display:none;\">\n",
              "        \n",
              "  <svg xmlns=\"http://www.w3.org/2000/svg\" height=\"24px\"viewBox=\"0 0 24 24\"\n",
              "       width=\"24px\">\n",
              "    <path d=\"M0 0h24v24H0V0z\" fill=\"none\"/>\n",
              "    <path d=\"M18.56 5.44l.94 2.06.94-2.06 2.06-.94-2.06-.94-.94-2.06-.94 2.06-2.06.94zm-11 1L8.5 8.5l.94-2.06 2.06-.94-2.06-.94L8.5 2.5l-.94 2.06-2.06.94zm10 10l.94 2.06.94-2.06 2.06-.94-2.06-.94-.94-2.06-.94 2.06-2.06.94z\"/><path d=\"M17.41 7.96l-1.37-1.37c-.4-.4-.92-.59-1.43-.59-.52 0-1.04.2-1.43.59L10.3 9.45l-7.72 7.72c-.78.78-.78 2.05 0 2.83L4 21.41c.39.39.9.59 1.41.59.51 0 1.02-.2 1.41-.59l7.78-7.78 2.81-2.81c.8-.78.8-2.07 0-2.86zM5.41 20L4 18.59l7.72-7.72 1.47 1.35L5.41 20z\"/>\n",
              "  </svg>\n",
              "      </button>\n",
              "      \n",
              "  <style>\n",
              "    .colab-df-container {\n",
              "      display:flex;\n",
              "      flex-wrap:wrap;\n",
              "      gap: 12px;\n",
              "    }\n",
              "\n",
              "    .colab-df-convert {\n",
              "      background-color: #E8F0FE;\n",
              "      border: none;\n",
              "      border-radius: 50%;\n",
              "      cursor: pointer;\n",
              "      display: none;\n",
              "      fill: #1967D2;\n",
              "      height: 32px;\n",
              "      padding: 0 0 0 0;\n",
              "      width: 32px;\n",
              "    }\n",
              "\n",
              "    .colab-df-convert:hover {\n",
              "      background-color: #E2EBFA;\n",
              "      box-shadow: 0px 1px 2px rgba(60, 64, 67, 0.3), 0px 1px 3px 1px rgba(60, 64, 67, 0.15);\n",
              "      fill: #174EA6;\n",
              "    }\n",
              "\n",
              "    [theme=dark] .colab-df-convert {\n",
              "      background-color: #3B4455;\n",
              "      fill: #D2E3FC;\n",
              "    }\n",
              "\n",
              "    [theme=dark] .colab-df-convert:hover {\n",
              "      background-color: #434B5C;\n",
              "      box-shadow: 0px 1px 3px 1px rgba(0, 0, 0, 0.15);\n",
              "      filter: drop-shadow(0px 1px 2px rgba(0, 0, 0, 0.3));\n",
              "      fill: #FFFFFF;\n",
              "    }\n",
              "  </style>\n",
              "\n",
              "      <script>\n",
              "        const buttonEl =\n",
              "          document.querySelector('#df-ba39ef0d-1f25-4c72-99df-488b35fb7302 button.colab-df-convert');\n",
              "        buttonEl.style.display =\n",
              "          google.colab.kernel.accessAllowed ? 'block' : 'none';\n",
              "\n",
              "        async function convertToInteractive(key) {\n",
              "          const element = document.querySelector('#df-ba39ef0d-1f25-4c72-99df-488b35fb7302');\n",
              "          const dataTable =\n",
              "            await google.colab.kernel.invokeFunction('convertToInteractive',\n",
              "                                                     [key], {});\n",
              "          if (!dataTable) return;\n",
              "\n",
              "          const docLinkHtml = 'Like what you see? Visit the ' +\n",
              "            '<a target=\"_blank\" href=https://colab.research.google.com/notebooks/data_table.ipynb>data table notebook</a>'\n",
              "            + ' to learn more about interactive tables.';\n",
              "          element.innerHTML = '';\n",
              "          dataTable['output_type'] = 'display_data';\n",
              "          await google.colab.output.renderOutput(dataTable, element);\n",
              "          const docLink = document.createElement('div');\n",
              "          docLink.innerHTML = docLinkHtml;\n",
              "          element.appendChild(docLink);\n",
              "        }\n",
              "      </script>\n",
              "    </div>\n",
              "  </div>\n",
              "  "
            ]
          },
          "metadata": {},
          "execution_count": 32
        }
      ],
      "source": [
        "df = pd.read_csv('https://raw.githubusercontent.com/Alcoris0987/NLP-Project/main/olid-training-v1.0.tsv', sep='\\t')\n",
        "df"
      ]
    },
    {
      "cell_type": "markdown",
      "source": [
        "Load tweet comments with emojis."
      ],
      "metadata": {
        "id": "i63EEeWp73dh"
      }
    },
    {
      "cell_type": "code",
      "execution_count": null,
      "metadata": {
        "colab": {
          "base_uri": "https://localhost:8080/",
          "height": 35
        },
        "id": "PMYEjRwqijMq",
        "outputId": "e9000ffd-7b0a-4808-b42e-eb9e913bb3f1"
      },
      "outputs": [
        {
          "output_type": "execute_result",
          "data": {
            "text/plain": [
              "'Benidorm ✅  Creamfields ✅  Maga ✅   Not too shabby of a summer'"
            ],
            "application/vnd.google.colaboratory.intrinsic+json": {
              "type": "string"
            }
          },
          "metadata": {},
          "execution_count": 33
        }
      ],
      "source": [
        "df.loc[13236,'tweet']"
      ]
    },
    {
      "cell_type": "markdown",
      "source": [
        "Test Emojis for Python and apply it to the training data."
      ],
      "metadata": {
        "id": "ZT_8IGuvhGgg"
      }
    },
    {
      "cell_type": "code",
      "execution_count": null,
      "metadata": {
        "colab": {
          "base_uri": "https://localhost:8080/"
        },
        "id": "u6Vh-VGyqhpa",
        "outputId": "cc3b0a76-bb48-4c0f-96d8-91733af2bf4e"
      },
      "outputs": [
        {
          "output_type": "stream",
          "name": "stdout",
          "text": [
            "Benidorm :check_mark_button:  Creamfields :check_mark_button:  Maga :check_mark_button:   Not too shabby of a summer\n"
          ]
        }
      ],
      "source": [
        "print(emoji.demojize(df.loc[13236,'tweet']))"
      ]
    },
    {
      "cell_type": "code",
      "execution_count": null,
      "metadata": {
        "colab": {
          "base_uri": "https://localhost:8080/",
          "height": 424
        },
        "id": "4qDAqn0cqppT",
        "outputId": "b95ac8fa-97b6-491a-b718-59a0b70777af"
      },
      "outputs": [
        {
          "output_type": "execute_result",
          "data": {
            "text/plain": [
              "          id                                              tweet subtask_a  \\\n",
              "0      86426  @USER She should ask a few native Americans wh...       OFF   \n",
              "1      90194  @USER @USER Go home you’re drunk!!! @USER #MAG...       OFF   \n",
              "2      16820  Amazon is investigating Chinese employees who ...       NOT   \n",
              "3      62688  @USER Someone should'veTaken\" this piece of sh...       OFF   \n",
              "4      43605  @USER @USER Obama wanted liberals &amp; illega...       NOT   \n",
              "...      ...                                                ...       ...   \n",
              "13235  95338  @USER Sometimes I get strong vibes from people...       OFF   \n",
              "13236  67210  Benidorm ✅  Creamfields ✅  Maga ✅   Not too sh...       NOT   \n",
              "13237  82921  @USER And why report this garbage.  We don't g...       OFF   \n",
              "13238  27429                                        @USER Pussy       OFF   \n",
              "13239  46552  #Spanishrevenge vs. #justice #HumanRights and ...       NOT   \n",
              "\n",
              "      subtask_b subtask_c                                        demojitweet  \n",
              "0           UNT       NaN  @USER She should ask a few native Americans wh...  \n",
              "1           TIN       IND  @USER @USER Go home you’re drunk!!! @USER #MAG...  \n",
              "2           NaN       NaN  Amazon is investigating Chinese employees who ...  \n",
              "3           UNT       NaN  @USER Someone should'veTaken\" this piece of sh...  \n",
              "4           NaN       NaN  @USER @USER Obama wanted liberals &amp; illega...  \n",
              "...         ...       ...                                                ...  \n",
              "13235       TIN       IND  @USER Sometimes I get strong vibes from people...  \n",
              "13236       NaN       NaN  Benidorm :check_mark_button:  Creamfields :che...  \n",
              "13237       TIN       OTH  @USER And why report this garbage.  We don't g...  \n",
              "13238       UNT       NaN                                        @USER Pussy  \n",
              "13239       NaN       NaN  #Spanishrevenge vs. #justice #HumanRights and ...  \n",
              "\n",
              "[13240 rows x 6 columns]"
            ],
            "text/html": [
              "\n",
              "  <div id=\"df-07e339e7-ad7a-42f7-8aa6-0bc3667dfdaf\">\n",
              "    <div class=\"colab-df-container\">\n",
              "      <div>\n",
              "<style scoped>\n",
              "    .dataframe tbody tr th:only-of-type {\n",
              "        vertical-align: middle;\n",
              "    }\n",
              "\n",
              "    .dataframe tbody tr th {\n",
              "        vertical-align: top;\n",
              "    }\n",
              "\n",
              "    .dataframe thead th {\n",
              "        text-align: right;\n",
              "    }\n",
              "</style>\n",
              "<table border=\"1\" class=\"dataframe\">\n",
              "  <thead>\n",
              "    <tr style=\"text-align: right;\">\n",
              "      <th></th>\n",
              "      <th>id</th>\n",
              "      <th>tweet</th>\n",
              "      <th>subtask_a</th>\n",
              "      <th>subtask_b</th>\n",
              "      <th>subtask_c</th>\n",
              "      <th>demojitweet</th>\n",
              "    </tr>\n",
              "  </thead>\n",
              "  <tbody>\n",
              "    <tr>\n",
              "      <th>0</th>\n",
              "      <td>86426</td>\n",
              "      <td>@USER She should ask a few native Americans wh...</td>\n",
              "      <td>OFF</td>\n",
              "      <td>UNT</td>\n",
              "      <td>NaN</td>\n",
              "      <td>@USER She should ask a few native Americans wh...</td>\n",
              "    </tr>\n",
              "    <tr>\n",
              "      <th>1</th>\n",
              "      <td>90194</td>\n",
              "      <td>@USER @USER Go home you’re drunk!!! @USER #MAG...</td>\n",
              "      <td>OFF</td>\n",
              "      <td>TIN</td>\n",
              "      <td>IND</td>\n",
              "      <td>@USER @USER Go home you’re drunk!!! @USER #MAG...</td>\n",
              "    </tr>\n",
              "    <tr>\n",
              "      <th>2</th>\n",
              "      <td>16820</td>\n",
              "      <td>Amazon is investigating Chinese employees who ...</td>\n",
              "      <td>NOT</td>\n",
              "      <td>NaN</td>\n",
              "      <td>NaN</td>\n",
              "      <td>Amazon is investigating Chinese employees who ...</td>\n",
              "    </tr>\n",
              "    <tr>\n",
              "      <th>3</th>\n",
              "      <td>62688</td>\n",
              "      <td>@USER Someone should'veTaken\" this piece of sh...</td>\n",
              "      <td>OFF</td>\n",
              "      <td>UNT</td>\n",
              "      <td>NaN</td>\n",
              "      <td>@USER Someone should'veTaken\" this piece of sh...</td>\n",
              "    </tr>\n",
              "    <tr>\n",
              "      <th>4</th>\n",
              "      <td>43605</td>\n",
              "      <td>@USER @USER Obama wanted liberals &amp;amp; illega...</td>\n",
              "      <td>NOT</td>\n",
              "      <td>NaN</td>\n",
              "      <td>NaN</td>\n",
              "      <td>@USER @USER Obama wanted liberals &amp;amp; illega...</td>\n",
              "    </tr>\n",
              "    <tr>\n",
              "      <th>...</th>\n",
              "      <td>...</td>\n",
              "      <td>...</td>\n",
              "      <td>...</td>\n",
              "      <td>...</td>\n",
              "      <td>...</td>\n",
              "      <td>...</td>\n",
              "    </tr>\n",
              "    <tr>\n",
              "      <th>13235</th>\n",
              "      <td>95338</td>\n",
              "      <td>@USER Sometimes I get strong vibes from people...</td>\n",
              "      <td>OFF</td>\n",
              "      <td>TIN</td>\n",
              "      <td>IND</td>\n",
              "      <td>@USER Sometimes I get strong vibes from people...</td>\n",
              "    </tr>\n",
              "    <tr>\n",
              "      <th>13236</th>\n",
              "      <td>67210</td>\n",
              "      <td>Benidorm ✅  Creamfields ✅  Maga ✅   Not too sh...</td>\n",
              "      <td>NOT</td>\n",
              "      <td>NaN</td>\n",
              "      <td>NaN</td>\n",
              "      <td>Benidorm :check_mark_button:  Creamfields :che...</td>\n",
              "    </tr>\n",
              "    <tr>\n",
              "      <th>13237</th>\n",
              "      <td>82921</td>\n",
              "      <td>@USER And why report this garbage.  We don't g...</td>\n",
              "      <td>OFF</td>\n",
              "      <td>TIN</td>\n",
              "      <td>OTH</td>\n",
              "      <td>@USER And why report this garbage.  We don't g...</td>\n",
              "    </tr>\n",
              "    <tr>\n",
              "      <th>13238</th>\n",
              "      <td>27429</td>\n",
              "      <td>@USER Pussy</td>\n",
              "      <td>OFF</td>\n",
              "      <td>UNT</td>\n",
              "      <td>NaN</td>\n",
              "      <td>@USER Pussy</td>\n",
              "    </tr>\n",
              "    <tr>\n",
              "      <th>13239</th>\n",
              "      <td>46552</td>\n",
              "      <td>#Spanishrevenge vs. #justice #HumanRights and ...</td>\n",
              "      <td>NOT</td>\n",
              "      <td>NaN</td>\n",
              "      <td>NaN</td>\n",
              "      <td>#Spanishrevenge vs. #justice #HumanRights and ...</td>\n",
              "    </tr>\n",
              "  </tbody>\n",
              "</table>\n",
              "<p>13240 rows × 6 columns</p>\n",
              "</div>\n",
              "      <button class=\"colab-df-convert\" onclick=\"convertToInteractive('df-07e339e7-ad7a-42f7-8aa6-0bc3667dfdaf')\"\n",
              "              title=\"Convert this dataframe to an interactive table.\"\n",
              "              style=\"display:none;\">\n",
              "        \n",
              "  <svg xmlns=\"http://www.w3.org/2000/svg\" height=\"24px\"viewBox=\"0 0 24 24\"\n",
              "       width=\"24px\">\n",
              "    <path d=\"M0 0h24v24H0V0z\" fill=\"none\"/>\n",
              "    <path d=\"M18.56 5.44l.94 2.06.94-2.06 2.06-.94-2.06-.94-.94-2.06-.94 2.06-2.06.94zm-11 1L8.5 8.5l.94-2.06 2.06-.94-2.06-.94L8.5 2.5l-.94 2.06-2.06.94zm10 10l.94 2.06.94-2.06 2.06-.94-2.06-.94-.94-2.06-.94 2.06-2.06.94z\"/><path d=\"M17.41 7.96l-1.37-1.37c-.4-.4-.92-.59-1.43-.59-.52 0-1.04.2-1.43.59L10.3 9.45l-7.72 7.72c-.78.78-.78 2.05 0 2.83L4 21.41c.39.39.9.59 1.41.59.51 0 1.02-.2 1.41-.59l7.78-7.78 2.81-2.81c.8-.78.8-2.07 0-2.86zM5.41 20L4 18.59l7.72-7.72 1.47 1.35L5.41 20z\"/>\n",
              "  </svg>\n",
              "      </button>\n",
              "      \n",
              "  <style>\n",
              "    .colab-df-container {\n",
              "      display:flex;\n",
              "      flex-wrap:wrap;\n",
              "      gap: 12px;\n",
              "    }\n",
              "\n",
              "    .colab-df-convert {\n",
              "      background-color: #E8F0FE;\n",
              "      border: none;\n",
              "      border-radius: 50%;\n",
              "      cursor: pointer;\n",
              "      display: none;\n",
              "      fill: #1967D2;\n",
              "      height: 32px;\n",
              "      padding: 0 0 0 0;\n",
              "      width: 32px;\n",
              "    }\n",
              "\n",
              "    .colab-df-convert:hover {\n",
              "      background-color: #E2EBFA;\n",
              "      box-shadow: 0px 1px 2px rgba(60, 64, 67, 0.3), 0px 1px 3px 1px rgba(60, 64, 67, 0.15);\n",
              "      fill: #174EA6;\n",
              "    }\n",
              "\n",
              "    [theme=dark] .colab-df-convert {\n",
              "      background-color: #3B4455;\n",
              "      fill: #D2E3FC;\n",
              "    }\n",
              "\n",
              "    [theme=dark] .colab-df-convert:hover {\n",
              "      background-color: #434B5C;\n",
              "      box-shadow: 0px 1px 3px 1px rgba(0, 0, 0, 0.15);\n",
              "      filter: drop-shadow(0px 1px 2px rgba(0, 0, 0, 0.3));\n",
              "      fill: #FFFFFF;\n",
              "    }\n",
              "  </style>\n",
              "\n",
              "      <script>\n",
              "        const buttonEl =\n",
              "          document.querySelector('#df-07e339e7-ad7a-42f7-8aa6-0bc3667dfdaf button.colab-df-convert');\n",
              "        buttonEl.style.display =\n",
              "          google.colab.kernel.accessAllowed ? 'block' : 'none';\n",
              "\n",
              "        async function convertToInteractive(key) {\n",
              "          const element = document.querySelector('#df-07e339e7-ad7a-42f7-8aa6-0bc3667dfdaf');\n",
              "          const dataTable =\n",
              "            await google.colab.kernel.invokeFunction('convertToInteractive',\n",
              "                                                     [key], {});\n",
              "          if (!dataTable) return;\n",
              "\n",
              "          const docLinkHtml = 'Like what you see? Visit the ' +\n",
              "            '<a target=\"_blank\" href=https://colab.research.google.com/notebooks/data_table.ipynb>data table notebook</a>'\n",
              "            + ' to learn more about interactive tables.';\n",
              "          element.innerHTML = '';\n",
              "          dataTable['output_type'] = 'display_data';\n",
              "          await google.colab.output.renderOutput(dataTable, element);\n",
              "          const docLink = document.createElement('div');\n",
              "          docLink.innerHTML = docLinkHtml;\n",
              "          element.appendChild(docLink);\n",
              "        }\n",
              "      </script>\n",
              "    </div>\n",
              "  </div>\n",
              "  "
            ]
          },
          "metadata": {},
          "execution_count": 35
        }
      ],
      "source": [
        "empty = []\n",
        "for row in df['tweet']:\n",
        "  row = emoji.demojize(row)\n",
        "  empty.append(row)\n",
        "df['demojitweet'] = empty\n",
        "df"
      ]
    },
    {
      "cell_type": "code",
      "execution_count": null,
      "metadata": {
        "colab": {
          "base_uri": "https://localhost:8080/",
          "height": 424
        },
        "id": "8ocYqv6TqxiT",
        "outputId": "90caa0a8-2b1e-427e-d1a0-ab32d92c125f"
      },
      "outputs": [
        {
          "output_type": "execute_result",
          "data": {
            "text/plain": [
              "          id subtask_a subtask_b subtask_c  \\\n",
              "0      86426       OFF       UNT       NaN   \n",
              "1      90194       OFF       TIN       IND   \n",
              "2      16820       NOT       NaN       NaN   \n",
              "3      62688       OFF       UNT       NaN   \n",
              "4      43605       NOT       NaN       NaN   \n",
              "...      ...       ...       ...       ...   \n",
              "13235  95338       OFF       TIN       IND   \n",
              "13236  67210       NOT       NaN       NaN   \n",
              "13237  82921       OFF       TIN       OTH   \n",
              "13238  27429       OFF       UNT       NaN   \n",
              "13239  46552       NOT       NaN       NaN   \n",
              "\n",
              "                                             demojitweet  \n",
              "0      @USER She should ask a few native Americans wh...  \n",
              "1      @USER @USER Go home you’re drunk!!! @USER #MAG...  \n",
              "2      Amazon is investigating Chinese employees who ...  \n",
              "3      @USER Someone should'veTaken\" this piece of sh...  \n",
              "4      @USER @USER Obama wanted liberals &amp; illega...  \n",
              "...                                                  ...  \n",
              "13235  @USER Sometimes I get strong vibes from people...  \n",
              "13236  Benidorm :check_mark_button:  Creamfields :che...  \n",
              "13237  @USER And why report this garbage.  We don't g...  \n",
              "13238                                        @USER Pussy  \n",
              "13239  #Spanishrevenge vs. #justice #HumanRights and ...  \n",
              "\n",
              "[13240 rows x 5 columns]"
            ],
            "text/html": [
              "\n",
              "  <div id=\"df-a7d815d5-ea6b-4e8f-b26f-1eefaa05d7de\">\n",
              "    <div class=\"colab-df-container\">\n",
              "      <div>\n",
              "<style scoped>\n",
              "    .dataframe tbody tr th:only-of-type {\n",
              "        vertical-align: middle;\n",
              "    }\n",
              "\n",
              "    .dataframe tbody tr th {\n",
              "        vertical-align: top;\n",
              "    }\n",
              "\n",
              "    .dataframe thead th {\n",
              "        text-align: right;\n",
              "    }\n",
              "</style>\n",
              "<table border=\"1\" class=\"dataframe\">\n",
              "  <thead>\n",
              "    <tr style=\"text-align: right;\">\n",
              "      <th></th>\n",
              "      <th>id</th>\n",
              "      <th>subtask_a</th>\n",
              "      <th>subtask_b</th>\n",
              "      <th>subtask_c</th>\n",
              "      <th>demojitweet</th>\n",
              "    </tr>\n",
              "  </thead>\n",
              "  <tbody>\n",
              "    <tr>\n",
              "      <th>0</th>\n",
              "      <td>86426</td>\n",
              "      <td>OFF</td>\n",
              "      <td>UNT</td>\n",
              "      <td>NaN</td>\n",
              "      <td>@USER She should ask a few native Americans wh...</td>\n",
              "    </tr>\n",
              "    <tr>\n",
              "      <th>1</th>\n",
              "      <td>90194</td>\n",
              "      <td>OFF</td>\n",
              "      <td>TIN</td>\n",
              "      <td>IND</td>\n",
              "      <td>@USER @USER Go home you’re drunk!!! @USER #MAG...</td>\n",
              "    </tr>\n",
              "    <tr>\n",
              "      <th>2</th>\n",
              "      <td>16820</td>\n",
              "      <td>NOT</td>\n",
              "      <td>NaN</td>\n",
              "      <td>NaN</td>\n",
              "      <td>Amazon is investigating Chinese employees who ...</td>\n",
              "    </tr>\n",
              "    <tr>\n",
              "      <th>3</th>\n",
              "      <td>62688</td>\n",
              "      <td>OFF</td>\n",
              "      <td>UNT</td>\n",
              "      <td>NaN</td>\n",
              "      <td>@USER Someone should'veTaken\" this piece of sh...</td>\n",
              "    </tr>\n",
              "    <tr>\n",
              "      <th>4</th>\n",
              "      <td>43605</td>\n",
              "      <td>NOT</td>\n",
              "      <td>NaN</td>\n",
              "      <td>NaN</td>\n",
              "      <td>@USER @USER Obama wanted liberals &amp;amp; illega...</td>\n",
              "    </tr>\n",
              "    <tr>\n",
              "      <th>...</th>\n",
              "      <td>...</td>\n",
              "      <td>...</td>\n",
              "      <td>...</td>\n",
              "      <td>...</td>\n",
              "      <td>...</td>\n",
              "    </tr>\n",
              "    <tr>\n",
              "      <th>13235</th>\n",
              "      <td>95338</td>\n",
              "      <td>OFF</td>\n",
              "      <td>TIN</td>\n",
              "      <td>IND</td>\n",
              "      <td>@USER Sometimes I get strong vibes from people...</td>\n",
              "    </tr>\n",
              "    <tr>\n",
              "      <th>13236</th>\n",
              "      <td>67210</td>\n",
              "      <td>NOT</td>\n",
              "      <td>NaN</td>\n",
              "      <td>NaN</td>\n",
              "      <td>Benidorm :check_mark_button:  Creamfields :che...</td>\n",
              "    </tr>\n",
              "    <tr>\n",
              "      <th>13237</th>\n",
              "      <td>82921</td>\n",
              "      <td>OFF</td>\n",
              "      <td>TIN</td>\n",
              "      <td>OTH</td>\n",
              "      <td>@USER And why report this garbage.  We don't g...</td>\n",
              "    </tr>\n",
              "    <tr>\n",
              "      <th>13238</th>\n",
              "      <td>27429</td>\n",
              "      <td>OFF</td>\n",
              "      <td>UNT</td>\n",
              "      <td>NaN</td>\n",
              "      <td>@USER Pussy</td>\n",
              "    </tr>\n",
              "    <tr>\n",
              "      <th>13239</th>\n",
              "      <td>46552</td>\n",
              "      <td>NOT</td>\n",
              "      <td>NaN</td>\n",
              "      <td>NaN</td>\n",
              "      <td>#Spanishrevenge vs. #justice #HumanRights and ...</td>\n",
              "    </tr>\n",
              "  </tbody>\n",
              "</table>\n",
              "<p>13240 rows × 5 columns</p>\n",
              "</div>\n",
              "      <button class=\"colab-df-convert\" onclick=\"convertToInteractive('df-a7d815d5-ea6b-4e8f-b26f-1eefaa05d7de')\"\n",
              "              title=\"Convert this dataframe to an interactive table.\"\n",
              "              style=\"display:none;\">\n",
              "        \n",
              "  <svg xmlns=\"http://www.w3.org/2000/svg\" height=\"24px\"viewBox=\"0 0 24 24\"\n",
              "       width=\"24px\">\n",
              "    <path d=\"M0 0h24v24H0V0z\" fill=\"none\"/>\n",
              "    <path d=\"M18.56 5.44l.94 2.06.94-2.06 2.06-.94-2.06-.94-.94-2.06-.94 2.06-2.06.94zm-11 1L8.5 8.5l.94-2.06 2.06-.94-2.06-.94L8.5 2.5l-.94 2.06-2.06.94zm10 10l.94 2.06.94-2.06 2.06-.94-2.06-.94-.94-2.06-.94 2.06-2.06.94z\"/><path d=\"M17.41 7.96l-1.37-1.37c-.4-.4-.92-.59-1.43-.59-.52 0-1.04.2-1.43.59L10.3 9.45l-7.72 7.72c-.78.78-.78 2.05 0 2.83L4 21.41c.39.39.9.59 1.41.59.51 0 1.02-.2 1.41-.59l7.78-7.78 2.81-2.81c.8-.78.8-2.07 0-2.86zM5.41 20L4 18.59l7.72-7.72 1.47 1.35L5.41 20z\"/>\n",
              "  </svg>\n",
              "      </button>\n",
              "      \n",
              "  <style>\n",
              "    .colab-df-container {\n",
              "      display:flex;\n",
              "      flex-wrap:wrap;\n",
              "      gap: 12px;\n",
              "    }\n",
              "\n",
              "    .colab-df-convert {\n",
              "      background-color: #E8F0FE;\n",
              "      border: none;\n",
              "      border-radius: 50%;\n",
              "      cursor: pointer;\n",
              "      display: none;\n",
              "      fill: #1967D2;\n",
              "      height: 32px;\n",
              "      padding: 0 0 0 0;\n",
              "      width: 32px;\n",
              "    }\n",
              "\n",
              "    .colab-df-convert:hover {\n",
              "      background-color: #E2EBFA;\n",
              "      box-shadow: 0px 1px 2px rgba(60, 64, 67, 0.3), 0px 1px 3px 1px rgba(60, 64, 67, 0.15);\n",
              "      fill: #174EA6;\n",
              "    }\n",
              "\n",
              "    [theme=dark] .colab-df-convert {\n",
              "      background-color: #3B4455;\n",
              "      fill: #D2E3FC;\n",
              "    }\n",
              "\n",
              "    [theme=dark] .colab-df-convert:hover {\n",
              "      background-color: #434B5C;\n",
              "      box-shadow: 0px 1px 3px 1px rgba(0, 0, 0, 0.15);\n",
              "      filter: drop-shadow(0px 1px 2px rgba(0, 0, 0, 0.3));\n",
              "      fill: #FFFFFF;\n",
              "    }\n",
              "  </style>\n",
              "\n",
              "      <script>\n",
              "        const buttonEl =\n",
              "          document.querySelector('#df-a7d815d5-ea6b-4e8f-b26f-1eefaa05d7de button.colab-df-convert');\n",
              "        buttonEl.style.display =\n",
              "          google.colab.kernel.accessAllowed ? 'block' : 'none';\n",
              "\n",
              "        async function convertToInteractive(key) {\n",
              "          const element = document.querySelector('#df-a7d815d5-ea6b-4e8f-b26f-1eefaa05d7de');\n",
              "          const dataTable =\n",
              "            await google.colab.kernel.invokeFunction('convertToInteractive',\n",
              "                                                     [key], {});\n",
              "          if (!dataTable) return;\n",
              "\n",
              "          const docLinkHtml = 'Like what you see? Visit the ' +\n",
              "            '<a target=\"_blank\" href=https://colab.research.google.com/notebooks/data_table.ipynb>data table notebook</a>'\n",
              "            + ' to learn more about interactive tables.';\n",
              "          element.innerHTML = '';\n",
              "          dataTable['output_type'] = 'display_data';\n",
              "          await google.colab.output.renderOutput(dataTable, element);\n",
              "          const docLink = document.createElement('div');\n",
              "          docLink.innerHTML = docLinkHtml;\n",
              "          element.appendChild(docLink);\n",
              "        }\n",
              "      </script>\n",
              "    </div>\n",
              "  </div>\n",
              "  "
            ]
          },
          "metadata": {},
          "execution_count": 36
        }
      ],
      "source": [
        "df2 = df.drop(columns=['tweet'])\n",
        "df2"
      ]
    },
    {
      "cell_type": "markdown",
      "source": [
        "Check for missing values and repetitions."
      ],
      "metadata": {
        "id": "ATvRp07ZhKy1"
      }
    },
    {
      "cell_type": "code",
      "execution_count": null,
      "metadata": {
        "colab": {
          "base_uri": "https://localhost:8080/"
        },
        "id": "uNnf3mWERcLS",
        "outputId": "8632078c-9295-44df-8402-9ba7c0cd7a27"
      },
      "outputs": [
        {
          "output_type": "stream",
          "name": "stdout",
          "text": [
            "Missing values: False\n",
            "Repetitions: False\n"
          ]
        }
      ],
      "source": [
        "print(f\"Missing values: {df['subtask_a'].isnull().values.any()}\")\n",
        "print(f\"Repetitions: {len(df) != len(df['id'].unique())}\")\n"
      ]
    },
    {
      "cell_type": "markdown",
      "source": [
        "Convert offensive labels to 1 and not offensive ones to 0."
      ],
      "metadata": {
        "id": "axrrsbYQhPB1"
      }
    },
    {
      "cell_type": "code",
      "execution_count": null,
      "metadata": {
        "id": "uAowXQ-vU3LF"
      },
      "outputs": [],
      "source": [
        "df['subtask_a'] = df['subtask_a'].map({'OFF': 1, 'NOT': 0})"
      ]
    },
    {
      "cell_type": "code",
      "execution_count": null,
      "metadata": {
        "colab": {
          "base_uri": "https://localhost:8080/"
        },
        "id": "D4A6IjqUVOHf",
        "outputId": "ebb7b38e-e354-40c3-b095-5a76576e106c"
      },
      "outputs": [
        {
          "output_type": "stream",
          "name": "stdout",
          "text": [
            "(9930,)\n",
            "(3310,)\n",
            "(9930,)\n",
            "(3310,)\n"
          ]
        }
      ],
      "source": [
        "from sklearn.model_selection import train_test_split, cross_val_score\n",
        "\n",
        "X = df['tweet']\n",
        "y = df['subtask_a']\n",
        "\n",
        "X_train, X_test, y_train, y_test = train_test_split(X, y)\n",
        "\n",
        "print(X_train.shape)\n",
        "print(X_test.shape)\n",
        "print(y_train.shape)\n",
        "print(y_test.shape)"
      ]
    },
    {
      "cell_type": "code",
      "execution_count": null,
      "metadata": {
        "id": "lDrwWT_ucvlH"
      },
      "outputs": [],
      "source": [
        "### Vectorization ### WIP\n",
        "\n",
        "# from sklearn.feature_extraction.text import TfidfVectorizer\n",
        "# matrix = vect.fit_transform(df)\n",
        "# vect = TfidfVectorizer()\n",
        "# vect.fit(X_train, y_train)\n",
        "# vect.transform(X_train, y_train)"
      ]
    },
    {
      "cell_type": "markdown",
      "source": [
        "Import the relevant tools."
      ],
      "metadata": {
        "id": "mU9E5PgmhSqm"
      }
    },
    {
      "cell_type": "code",
      "execution_count": null,
      "metadata": {
        "id": "HZo91Ygmu-oX"
      },
      "outputs": [],
      "source": [
        "%matplotlib inline\n",
        "import tensorflow as tf\n",
        "from sklearn.model_selection import train_test_split\n",
        "from ast import literal_eval\n",
        "import re\n",
        "import matplotlib\n",
        "import numpy as np\n",
        "import matplotlib.pyplot as plt\n",
        "import pandas as pd\n",
        "from sklearn.model_selection import train_test_split\n",
        "from sklearn.feature_extraction.text import TfidfVectorizer\n",
        "from sklearn.naive_bayes import MultinomialNB\n",
        "from sklearn.metrics import accuracy_score\n",
        "from sklearn.multiclass import OneVsRestClassifier\n",
        "from nltk.corpus import stopwords\n",
        "import nltk\n",
        "from sklearn.svm import LinearSVC\n",
        "from sklearn.linear_model import LogisticRegression\n",
        "from sklearn.pipeline import Pipeline\n",
        "import seaborn as sns\n",
        "import time"
      ]
    },
    {
      "cell_type": "code",
      "execution_count": null,
      "metadata": {
        "colab": {
          "base_uri": "https://localhost:8080/"
        },
        "id": "CrVv7A68v0uV",
        "outputId": "71ca776e-0a56-4663-fad9-735771bfb4fd"
      },
      "outputs": [
        {
          "output_type": "stream",
          "name": "stdout",
          "text": [
            "[nltk_data] Downloading package stopwords to /root/nltk_data...\n",
            "[nltk_data]   Package stopwords is already up-to-date!\n"
          ]
        }
      ],
      "source": [
        "nltk.download('stopwords')\n",
        "stop_words = set(stopwords.words('english'))"
      ]
    },
    {
      "cell_type": "markdown",
      "metadata": {
        "id": "j1NCOdYioGF3"
      },
      "source": [
        ""
      ]
    },
    {
      "cell_type": "code",
      "execution_count": null,
      "metadata": {
        "id": "8H06IrONjMKG"
      },
      "outputs": [],
      "source": [
        "### !!! Old Code !!! ###\n",
        "\n",
        "# from sklearn.ensemble import RandomForestClassifier\n",
        "# rfc = RandomForestClassifier()\n",
        "\n",
        "# from sklearn.pipeline import Pipeline\n",
        "# from sklearn.feature_extraction.text import TfidfVectorizer\n",
        "# rfc_pipeline = Pipeline([\n",
        "#                 ('tfidf', TfidfVectorizer()),\n",
        "#                 ('rfc', RandomForestClassifier()),\n",
        "#             ])\n",
        "\n",
        "\n",
        "# rfc_pipeline.fit(X_train, y_train)\n",
        "# prediction = rfc_pipeline.predict(X_test)\n",
        "\n",
        "# from sklearn.metrics import accuracy_score\n",
        "# accuracy_score(y_test, prediction)"
      ]
    },
    {
      "cell_type": "markdown",
      "source": [
        "# Classical Models\n",
        "The data is trained on six different classical machine learning models. A pipeline is used for each model to fit the data. Then, a prediction is made for each model. The running times for fitting the models are also measured."
      ],
      "metadata": {
        "id": "BZe6wbnA3vV9"
      }
    },
    {
      "cell_type": "code",
      "source": [
        "from sklearn.metrics import accuracy_score\n",
        "from sklearn.pipeline import Pipeline\n",
        "from sklearn.feature_extraction.text import TfidfVectorizer\n",
        "###############################################\n",
        "\n",
        "from sklearn.ensemble import RandomForestClassifier\n",
        "\n",
        "start = time.time()\n",
        "\n",
        "rfc_pipeline = Pipeline([\n",
        "                ('tfidf', TfidfVectorizer()),\n",
        "                ('rfc', RandomForestClassifier()),\n",
        "            ])\n",
        "\n",
        "\n",
        "rfc_pipeline.fit(X_train, y_train)\n",
        "rfc_prediction = rfc_pipeline.predict(X_test)\n",
        "rfc_score = accuracy_score(y_test, rfc_prediction)\n",
        "\n",
        "end = time.time()\n",
        "rfc_time = end-start\n",
        "\n",
        "print(\"Scores:\")\n",
        "print(f\"Random Forest: {rfc_score}\")\n",
        "\n",
        "###############################################\n",
        "\n",
        "from sklearn.tree import DecisionTreeClassifier\n",
        "\n",
        "start = time.time()\n",
        "\n",
        "dtc_pipeline = Pipeline([\n",
        "                ('tfidf', TfidfVectorizer()),\n",
        "                ('dtc', DecisionTreeClassifier()),\n",
        "            ])\n",
        "\n",
        "dtc_pipeline.fit(X_train, y_train)\n",
        "dtc_prediction = dtc_pipeline.predict(X_test)\n",
        "dtc_score = accuracy_score(y_test, dtc_prediction)\n",
        "\n",
        "end = time.time()\n",
        "dtc_time = end-start\n",
        "\n",
        "print(f\"Decision Tree: {dtc_score}\")\n",
        "\n",
        "###############################################\n",
        "\n",
        "from sklearn.neighbors import KNeighborsClassifier\n",
        "\n",
        "start = time.time()\n",
        "\n",
        "knc_pipeline = Pipeline([\n",
        "                ('tfidf', TfidfVectorizer()),\n",
        "                ('knc', KNeighborsClassifier()),\n",
        "            ])\n",
        "\n",
        "knc_pipeline.fit(X_train, y_train)\n",
        "knc_prediction = knc_pipeline.predict(X_test)\n",
        "knc_score = accuracy_score(y_test, knc_prediction)\n",
        "\n",
        "end = time.time()\n",
        "knc_time = end-start\n",
        "\n",
        "print(f\"K-Nearest Neighbors: {knc_score}\")\n",
        "\n",
        "###############################################\n",
        "\n",
        "from sklearn.linear_model import LogisticRegression\n",
        "\n",
        "start = time.time()\n",
        "\n",
        "lr_pipeline = Pipeline([\n",
        "                ('tfidf', TfidfVectorizer()),\n",
        "                ('lr', LogisticRegression()),\n",
        "            ])\n",
        "\n",
        "lr_pipeline.fit(X_train, y_train)\n",
        "lr_prediction = lr_pipeline.predict(X_test)\n",
        "lr_score = accuracy_score(y_test, lr_prediction)\n",
        "\n",
        "end = time.time()\n",
        "lr_time = end-start\n",
        "\n",
        "print(f\"Logistic Regression: {lr_score}\")\n",
        "\n",
        "###############################################\n",
        "\n",
        "from sklearn.svm import SVC\n",
        "\n",
        "start = time.time()\n",
        "\n",
        "svc_pipeline = Pipeline([\n",
        "                ('tfidf', TfidfVectorizer()),\n",
        "                ('svc', SVC()),\n",
        "            ])\n",
        "\n",
        "svc_pipeline.fit(X_train, y_train)\n",
        "svc_prediction = svc_pipeline.predict(X_test)\n",
        "svc_score = accuracy_score(y_test, svc_prediction)\n",
        "\n",
        "end = time.time()\n",
        "svc_time = end-start\n",
        "\n",
        "print(f\"Support Vector: {svc_score}\")\n",
        "\n",
        "###############################################\n",
        "\n",
        "from sklearn.naive_bayes import MultinomialNB\n",
        "\n",
        "start = time.time()\n",
        "\n",
        "mnb_pipeline = Pipeline([\n",
        "                ('tfidf', TfidfVectorizer()),\n",
        "                ('mnb', MultinomialNB()),\n",
        "            ])\n",
        "\n",
        "mnb_pipeline.fit(X_train, y_train)\n",
        "mnb_prediction = mnb_pipeline.predict(X_test)\n",
        "mnb_score = accuracy_score(y_test, mnb_prediction)\n",
        "\n",
        "end = time.time()\n",
        "mnb_time = end-start\n",
        "\n",
        "print(f\"Multinomial NB: {mnb_score}\")\n",
        "print(\"\\n **************************** \\n\")\n",
        "print(\"Run times:\")\n",
        "print(f\"Random Forest: {rfc_time}\")\n",
        "print(f\"Decision Tree: {dtc_time}\")\n",
        "print(f\"K-Nearest Neighbors: {knc_time}\")\n",
        "print(f\"Logistic Regression: {lr_time}\")\n",
        "print(f\"Support Vector: {svc_time}\")\n",
        "print(f\"Multinomial NB: {mnb_time}\")"
      ],
      "metadata": {
        "colab": {
          "base_uri": "https://localhost:8080/"
        },
        "id": "dDQD988NOkNo",
        "outputId": "f7588572-e37e-439f-c9a6-79feb3a667ac"
      },
      "execution_count": null,
      "outputs": [
        {
          "output_type": "stream",
          "name": "stdout",
          "text": [
            "Scores:\n",
            "Random Forest: 0.751963746223565\n",
            "Decision Tree: 0.697583081570997\n",
            "K-Nearest Neighbors: 0.7114803625377644\n",
            "Logistic Regression: 0.7570996978851964\n",
            "Support Vector: 0.7574018126888218\n",
            "Multinomial NB: 0.6945619335347432\n",
            "\n",
            " **************************** \n",
            "\n",
            "Run times:\n",
            "Random Forest: 24.715012788772583\n",
            "Decision Tree: 8.141461849212646\n",
            "K-Nearest Neighbors: 3.380333185195923\n",
            "Logistic Regression: 1.6506738662719727\n",
            "Support Vector: 32.22824835777283\n",
            "Multinomial NB: 0.3094773292541504\n"
          ]
        }
      ]
    },
    {
      "cell_type": "code",
      "source": [
        "from sklearn.metrics import confusion_matrix, ConfusionMatrixDisplay\n",
        "\n",
        "cm = confusion_matrix(y_test, svc_prediction, labels=svc_pipeline.classes_)\n",
        "disp = ConfusionMatrixDisplay(confusion_matrix=cm,\n",
        "                               display_labels=svc_pipeline.classes_)\n",
        "disp.plot()\n",
        "\n",
        "plt.show()"
      ],
      "metadata": {
        "colab": {
          "base_uri": "https://localhost:8080/",
          "height": 279
        },
        "id": "HwvvM64x2KUI",
        "outputId": "9e91df94-cf45-4974-88e4-27a117f753c0"
      },
      "execution_count": null,
      "outputs": [
        {
          "output_type": "display_data",
          "data": {
            "text/plain": [
              "<Figure size 432x288 with 2 Axes>"
            ],
            "image/png": "[encoded data removed]"
          },
          "metadata": {
            "needs_background": "light"
          }
        }
      ]
    },
    {
      "cell_type": "code",
      "source": [
        "from math import sqrt\n",
        "\n",
        "tn, fp, fn, tp = cm[0][0], cm[0][1], cm[1][0], cm[1][1]\n",
        "mcc = (tp*tn - fp*fn) / sqrt((tp+fp)*(tp+fn)*(tn+fp)*(tn+fn))\n",
        "print(f\"tn:{tn}, fp:{fp}, fn:{fn}, tp:{tp}, mcc:{mcc}\")"
      ],
      "metadata": {
        "colab": {
          "base_uri": "https://localhost:8080/"
        },
        "id": "6Ss6eo29wB4o",
        "outputId": "0da3f978-f2f0-4a4b-bb9a-08faa7fceb5b"
      },
      "execution_count": null,
      "outputs": [
        {
          "output_type": "stream",
          "name": "stdout",
          "text": [
            "tn:2134, fp:65, fn:738, tp:373, mcc:0.42668723248530105\n"
          ]
        }
      ]
    },
    {
      "cell_type": "code",
      "source": [
        "cm = confusion_matrix(y_test, rfc_prediction, labels=rfc_pipeline.classes_)\n",
        "disp = ConfusionMatrixDisplay(confusion_matrix=cm,\n",
        "                               display_labels=rfc_pipeline.classes_)\n",
        "disp.plot()\n",
        "\n",
        "plt.show()\n",
        "\n",
        "tn, fp, fn, tp = cm[0][0], cm[0][1], cm[1][0], cm[1][1]\n",
        "mcc = (tp*tn - fp*fn) / sqrt((tp+fp)*(tp+fn)*(tn+fp)*(tn+fn))\n",
        "print(f\"tn:{tn}, fp:{fp}, fn:{fn}, tp:{tp}, mcc:{mcc}\")"
      ],
      "metadata": {
        "colab": {
          "base_uri": "https://localhost:8080/",
          "height": 296
        },
        "id": "MDEKUE9JBhFP",
        "outputId": "874d1fc8-cecf-4615-8417-d163944cf02b"
      },
      "execution_count": null,
      "outputs": [
        {
          "output_type": "display_data",
          "data": {
            "text/plain": [
              "<Figure size 432x288 with 2 Axes>"
            ],
            "image/png": "[encoded data removed]"
          },
          "metadata": {
            "needs_background": "light"
          }
        },
        {
          "output_type": "stream",
          "name": "stdout",
          "text": [
            "tn:2140, fp:59, fn:762, tp:349, mcc:0.4126939004733915\n"
          ]
        }
      ]
    },
    {
      "cell_type": "code",
      "source": [
        "cm = confusion_matrix(y_test, dtc_prediction, labels=dtc_pipeline.classes_)\n",
        "disp = ConfusionMatrixDisplay(confusion_matrix=cm,\n",
        "                               display_labels=dtc_pipeline.classes_)\n",
        "disp.plot()\n",
        "\n",
        "plt.show()\n",
        "\n",
        "tn, fp, fn, tp = cm[0][0], cm[0][1], cm[1][0], cm[1][1]\n",
        "mcc = (tp*tn - fp*fn) / sqrt((tp+fp)*(tp+fn)*(tn+fp)*(tn+fn))\n",
        "print(f\"tn:{tn}, fp:{fp}, fn:{fn}, tp:{tp}, mcc:{mcc}\")"
      ],
      "metadata": {
        "colab": {
          "base_uri": "https://localhost:8080/",
          "height": 296
        },
        "id": "CLgn0L4k3RvI",
        "outputId": "2ac23f90-3b75-4dde-ac3e-a48f90dd3cbc"
      },
      "execution_count": null,
      "outputs": [
        {
          "output_type": "display_data",
          "data": {
            "text/plain": [
              "<Figure size 432x288 with 2 Axes>"
            ],
            "image/png": "[encoded data removed]"
          },
          "metadata": {
            "needs_background": "light"
          }
        },
        {
          "output_type": "stream",
          "name": "stdout",
          "text": [
            "tn:1765, fp:434, fn:567, tp:544, mcc:0.3025134867571338\n"
          ]
        }
      ]
    },
    {
      "cell_type": "code",
      "source": [
        "cm = confusion_matrix(y_test, knc_prediction, labels=knc_pipeline.classes_)\n",
        "disp = ConfusionMatrixDisplay(confusion_matrix=cm,\n",
        "                               display_labels=knc_pipeline.classes_)\n",
        "disp.plot()\n",
        "\n",
        "plt.show()\n",
        "\n",
        "tn, fp, fn, tp = cm[0][0], cm[0][1], cm[1][0], cm[1][1]\n",
        "mcc = (tp*tn - fp*fn) / sqrt((tp+fp)*(tp+fn)*(tn+fp)*(tn+fn))\n",
        "print(f\"tn:{tn}, fp:{fp}, fn:{fn}, tp:{tp}, mcc:{mcc}\")"
      ],
      "metadata": {
        "colab": {
          "base_uri": "https://localhost:8080/",
          "height": 299
        },
        "id": "G_ZdRb48B3ah",
        "outputId": "0029c657-ac67-486c-d995-6234c2004578"
      },
      "execution_count": null,
      "outputs": [
        {
          "output_type": "display_data",
          "data": {
            "text/plain": [
              "<Figure size 432x288 with 2 Axes>"
            ],
            "image/png": "[encoded data removed]"
          },
          "metadata": {
            "needs_background": "light"
          }
        },
        {
          "output_type": "stream",
          "name": "stdout",
          "text": [
            "tn:2013, fp:186, fn:769, tp:342, mcc:0.2879118371147352\n"
          ]
        }
      ]
    },
    {
      "cell_type": "code",
      "source": [
        "cm = confusion_matrix(y_test, lr_prediction, labels=lr_pipeline.classes_)\n",
        "disp = ConfusionMatrixDisplay(confusion_matrix=cm,\n",
        "                               display_labels=lr_pipeline.classes_)\n",
        "disp.plot()\n",
        "\n",
        "plt.show()\n",
        "\n",
        "tn, fp, fn, tp = cm[0][0], cm[0][1], cm[1][0], cm[1][1]\n",
        "mcc = (tp*tn - fp*fn) / sqrt((tp+fp)*(tp+fn)*(tn+fp)*(tn+fn))\n",
        "print(f\"tn:{tn}, fp:{fp}, fn:{fn}, tp:{tp}, mcc:{mcc}\")"
      ],
      "metadata": {
        "colab": {
          "base_uri": "https://localhost:8080/",
          "height": 296
        },
        "id": "Z7rGQfRWE8pa",
        "outputId": "fe5bc054-c6a8-4075-a7b6-027f9018653c"
      },
      "execution_count": null,
      "outputs": [
        {
          "output_type": "display_data",
          "data": {
            "text/plain": [
              "<Figure size 432x288 with 2 Axes>"
            ],
            "image/png": "[encoded data removed]"
          },
          "metadata": {
            "needs_background": "light"
          }
        },
        {
          "output_type": "stream",
          "name": "stdout",
          "text": [
            "tn:2089, fp:110, fn:694, tp:417, mcc:0.419866814277145\n"
          ]
        }
      ]
    },
    {
      "cell_type": "code",
      "source": [
        "cm = confusion_matrix(y_test, mnb_prediction, labels=mnb_pipeline.classes_)\n",
        "disp = ConfusionMatrixDisplay(confusion_matrix=cm,\n",
        "                               display_labels=mnb_pipeline.classes_)\n",
        "disp.plot()\n",
        "\n",
        "plt.show()\n",
        "\n",
        "tn, fp, fn, tp = cm[0][0], cm[0][1], cm[1][0], cm[1][1]\n",
        "mcc = (tp*tn - fp*fn) / sqrt((tp+fp)*(tp+fn)*(tn+fp)*(tn+fn))\n",
        "print(f\"tn:{tn}, fp:{fp}, fn:{fn}, tp:{tp}, mcc:{mcc}\")"
      ],
      "metadata": {
        "colab": {
          "base_uri": "https://localhost:8080/",
          "height": 296
        },
        "id": "JRT_eJVuFMSP",
        "outputId": "86c2f8d4-7670-431e-da85-d0ef0ef9d844"
      },
      "execution_count": null,
      "outputs": [
        {
          "output_type": "display_data",
          "data": {
            "text/plain": [
              "<Figure size 432x288 with 2 Axes>"
            ],
            "image/png": "[encoded data removed]"
          },
          "metadata": {
            "needs_background": "light"
          }
        },
        {
          "output_type": "stream",
          "name": "stdout",
          "text": [
            "tn:2185, fp:14, fn:997, tp:114, mcc:0.2357148920182477\n"
          ]
        }
      ]
    },
    {
      "cell_type": "markdown",
      "source": [
        "Among the six classical models, Support Vector Classifier yields the highest accuracy, followed by Logistic Regression, and Random Forest Classifier. However, Support Vector Classifier has also the longest running time, which is more than twice as long as the second slowest model, Random Forest Classifier. "
      ],
      "metadata": {
        "id": "3UA_rqsv5b1v"
      }
    },
    {
      "cell_type": "markdown",
      "source": [
        "The scores for each model are visualised in a vertical bar graph. The fraction digits after the fourth one are rounded for ease in reading."
      ],
      "metadata": {
        "id": "s-xgimwk6wrA"
      }
    },
    {
      "cell_type": "code",
      "source": [
        "scores = {\"Random Forest\": round(rfc_score, 4),\n",
        "          \"Decision Tree\": round(dtc_score, 4),\n",
        "          \"K-Nearest Neighbors\": round(knc_score, 4),\n",
        "          \"Logistic Regression\": round(lr_score, 4),\n",
        "          \"Support Vector\": round(svc_score, 4),\n",
        "          \"Multonomial NB\": round(mnb_score, 4)}\n",
        "\n",
        "def addlabels(x,y):\n",
        "    for i in range(len(x)):\n",
        "        plt.text(i, y[i], y[i], ha = 'center')\n",
        "\n",
        "score_list = scores.items()\n",
        "x_ax, y_ax = zip(*score_list) \n",
        "\n",
        "plt.bar(x_ax, y_ax, color=['powderblue', 'goldenrod', 'indianred', 'thistle', 'sienna', 'cornflowerblue'])\n",
        "addlabels(x_ax, y_ax)\n",
        "plt.title(\"Traditional Model Scores\")\n",
        "plt.xlabel('Model')\n",
        "plt.ylabel('Score')\n",
        "plt.rcParams[\"figure.figsize\"] = (20,5)\n",
        "plt.show()"
      ],
      "metadata": {
        "colab": {
          "base_uri": "https://localhost:8080/",
          "height": 295
        },
        "id": "EcviVzmXOrOg",
        "outputId": "b57b74b3-5f32-4f43-8b34-3efb878068aa"
      },
      "execution_count": null,
      "outputs": [
        {
          "output_type": "display_data",
          "data": {
            "text/plain": [
              "<Figure size 432x288 with 1 Axes>"
            ],
            "image/png": "[encoded data removed]"
          },
          "metadata": {
            "needs_background": "light"
          }
        }
      ]
    },
    {
      "cell_type": "markdown",
      "source": [
        "The running times for each model are also visualised."
      ],
      "metadata": {
        "id": "WGJSOhnY7ccK"
      }
    },
    {
      "cell_type": "code",
      "source": [
        "run_times = {\"Random Forest\": round(rfc_time, 4),\n",
        "             \"Decision Tree\": round(dtc_time, 4),\n",
        "             \"K-Nearest Neighbors\": round(knc_time, 4),\n",
        "             \"Logistic Regression\": round(lr_time, 4),\n",
        "             \"Support Vector\": round(svc_time, 4),\n",
        "             \"Multonomial NB\": round(mnb_time, 4)}\n",
        "\n",
        "time_list = run_times.items()\n",
        "x_ax, y_ax = zip(*time_list)\n",
        "\n",
        "plt.bar(x_ax, y_ax, color=['powderblue', 'goldenrod', 'indianred', 'thistle', 'sienna', 'cornflowerblue'])\n",
        "addlabels(x_ax, y_ax)\n",
        "plt.title(\"Traditional Model Scores\")\n",
        "plt.xlabel('Model')\n",
        "plt.ylabel('Score')\n",
        "plt.rcParams[\"figure.figsize\"] = (20,5)\n",
        "plt.show()"
      ],
      "metadata": {
        "colab": {
          "base_uri": "https://localhost:8080/",
          "height": 350
        },
        "id": "qOFoeqU-Ozl2",
        "outputId": "657ab4e2-7016-42b0-aeaf-cf59e9b167e8"
      },
      "execution_count": null,
      "outputs": [
        {
          "output_type": "display_data",
          "data": {
            "text/plain": [
              "<Figure size 1440x360 with 1 Axes>"
            ],
            "image/png": "[encoded data removed]"
          },
          "metadata": {
            "needs_background": "light"
          }
        }
      ]
    },
    {
      "cell_type": "markdown",
      "source": [
        "In order to further improve the model with the highest accuracy, Support Vector Classifier is trained with a grid search cross-validation."
      ],
      "metadata": {
        "id": "EBNQKriU7jzK"
      }
    },
    {
      "cell_type": "code",
      "source": [
        "from sklearn.model_selection import GridSearchCV\n",
        "grid = { \n",
        "    'kernel': ['linear', 'rbf', 'sigmoid'],\n",
        "    'degree': [1,3,5],\n",
        "    'gamma' : ['scale', 'auto'],\n",
        "    'shrinking': [True, False],\n",
        "}\n",
        "\n",
        "gs_svc = GridSearchCV(estimator=SVC(),\n",
        "                     param_grid=grid,\n",
        "                     cv=3,\n",
        "                     verbose=2)\n",
        "gs_svc_pipeline = Pipeline([\n",
        "                ('tfidf', TfidfVectorizer()),\n",
        "                ('gs_svc', gs_svc),\n",
        "            ])\n",
        "\n",
        "gs_svc_pipeline.fit(X_train, y_train)\n",
        "prediction = gs_svc_pipeline.predict(X_test)\n",
        "\n",
        "print(accuracy_score(y_test, prediction))\n",
        "print(f\"Best parameters: {gs_svc.best_params_}\\n\")"
      ],
      "metadata": {
        "colab": {
          "base_uri": "https://localhost:8080/"
        },
        "id": "851T9yDXO5xA",
        "outputId": "1eae87b3-5b45-4925-f4ad-b71ad9bf198b"
      },
      "execution_count": null,
      "outputs": [
        {
          "output_type": "stream",
          "name": "stdout",
          "text": [
            "Fitting 3 folds for each of 36 candidates, totalling 108 fits\n",
            "[CV] END degree=1, gamma=scale, kernel=linear, shrinking=True; total time=   9.2s\n",
            "[CV] END degree=1, gamma=scale, kernel=linear, shrinking=True; total time=   9.2s\n",
            "[CV] END degree=1, gamma=scale, kernel=linear, shrinking=True; total time=   8.9s\n",
            "[CV] END degree=1, gamma=scale, kernel=linear, shrinking=False; total time=   8.7s\n",
            "[CV] END degree=1, gamma=scale, kernel=linear, shrinking=False; total time=   8.8s\n",
            "[CV] END degree=1, gamma=scale, kernel=linear, shrinking=False; total time=   8.6s\n",
            "[CV] END ..degree=1, gamma=scale, kernel=rbf, shrinking=True; total time=  11.4s\n",
            "[CV] END ..degree=1, gamma=scale, kernel=rbf, shrinking=True; total time=  11.4s\n",
            "[CV] END ..degree=1, gamma=scale, kernel=rbf, shrinking=True; total time=  11.4s\n",
            "[CV] END .degree=1, gamma=scale, kernel=rbf, shrinking=False; total time=  11.4s\n",
            "[CV] END .degree=1, gamma=scale, kernel=rbf, shrinking=False; total time=  11.6s\n",
            "[CV] END .degree=1, gamma=scale, kernel=rbf, shrinking=False; total time=  11.4s\n",
            "[CV] END degree=1, gamma=scale, kernel=sigmoid, shrinking=True; total time=   8.9s\n",
            "[CV] END degree=1, gamma=scale, kernel=sigmoid, shrinking=True; total time=   8.4s\n",
            "[CV] END degree=1, gamma=scale, kernel=sigmoid, shrinking=True; total time=   8.2s\n",
            "[CV] END degree=1, gamma=scale, kernel=sigmoid, shrinking=False; total time=   8.8s\n",
            "[CV] END degree=1, gamma=scale, kernel=sigmoid, shrinking=False; total time=   8.0s\n",
            "[CV] END degree=1, gamma=scale, kernel=sigmoid, shrinking=False; total time=   8.0s\n",
            "[CV] END degree=1, gamma=auto, kernel=linear, shrinking=True; total time=   9.0s\n",
            "[CV] END degree=1, gamma=auto, kernel=linear, shrinking=True; total time=   9.1s\n",
            "[CV] END degree=1, gamma=auto, kernel=linear, shrinking=True; total time=   8.9s\n",
            "[CV] END degree=1, gamma=auto, kernel=linear, shrinking=False; total time=   8.9s\n",
            "[CV] END degree=1, gamma=auto, kernel=linear, shrinking=False; total time=   9.0s\n",
            "[CV] END degree=1, gamma=auto, kernel=linear, shrinking=False; total time=   8.8s\n",
            "[CV] END ...degree=1, gamma=auto, kernel=rbf, shrinking=True; total time=   8.3s\n",
            "[CV] END ...degree=1, gamma=auto, kernel=rbf, shrinking=True; total time=   8.7s\n",
            "[CV] END ...degree=1, gamma=auto, kernel=rbf, shrinking=True; total time=   8.4s\n",
            "[CV] END ..degree=1, gamma=auto, kernel=rbf, shrinking=False; total time=   8.4s\n",
            "[CV] END ..degree=1, gamma=auto, kernel=rbf, shrinking=False; total time=   8.4s\n",
            "[CV] END ..degree=1, gamma=auto, kernel=rbf, shrinking=False; total time=   8.4s\n",
            "[CV] END degree=1, gamma=auto, kernel=sigmoid, shrinking=True; total time=   8.2s\n",
            "[CV] END degree=1, gamma=auto, kernel=sigmoid, shrinking=True; total time=   8.2s\n",
            "[CV] END degree=1, gamma=auto, kernel=sigmoid, shrinking=True; total time=   8.3s\n",
            "[CV] END degree=1, gamma=auto, kernel=sigmoid, shrinking=False; total time=   8.4s\n",
            "[CV] END degree=1, gamma=auto, kernel=sigmoid, shrinking=False; total time=   8.3s\n",
            "[CV] END degree=1, gamma=auto, kernel=sigmoid, shrinking=False; total time=   8.4s\n",
            "[CV] END degree=3, gamma=scale, kernel=linear, shrinking=True; total time=   9.4s\n",
            "[CV] END degree=3, gamma=scale, kernel=linear, shrinking=True; total time=   9.5s\n",
            "[CV] END degree=3, gamma=scale, kernel=linear, shrinking=True; total time=   9.3s\n",
            "[CV] END degree=3, gamma=scale, kernel=linear, shrinking=False; total time=   9.2s\n",
            "[CV] END degree=3, gamma=scale, kernel=linear, shrinking=False; total time=   9.2s\n",
            "[CV] END degree=3, gamma=scale, kernel=linear, shrinking=False; total time=   9.0s\n",
            "[CV] END ..degree=3, gamma=scale, kernel=rbf, shrinking=True; total time=  11.8s\n",
            "[CV] END ..degree=3, gamma=scale, kernel=rbf, shrinking=True; total time=  11.9s\n",
            "[CV] END ..degree=3, gamma=scale, kernel=rbf, shrinking=True; total time=  11.8s\n",
            "[CV] END .degree=3, gamma=scale, kernel=rbf, shrinking=False; total time=  11.9s\n",
            "[CV] END .degree=3, gamma=scale, kernel=rbf, shrinking=False; total time=  11.9s\n",
            "[CV] END .degree=3, gamma=scale, kernel=rbf, shrinking=False; total time=  11.8s\n",
            "[CV] END degree=3, gamma=scale, kernel=sigmoid, shrinking=True; total time=   9.2s\n",
            "[CV] END degree=3, gamma=scale, kernel=sigmoid, shrinking=True; total time=   8.5s\n",
            "[CV] END degree=3, gamma=scale, kernel=sigmoid, shrinking=True; total time=   8.5s\n",
            "[CV] END degree=3, gamma=scale, kernel=sigmoid, shrinking=False; total time=   9.0s\n",
            "[CV] END degree=3, gamma=scale, kernel=sigmoid, shrinking=False; total time=   8.2s\n",
            "[CV] END degree=3, gamma=scale, kernel=sigmoid, shrinking=False; total time=   8.2s\n",
            "[CV] END degree=3, gamma=auto, kernel=linear, shrinking=True; total time=   9.4s\n",
            "[CV] END degree=3, gamma=auto, kernel=linear, shrinking=True; total time=   9.5s\n",
            "[CV] END degree=3, gamma=auto, kernel=linear, shrinking=True; total time=   9.2s\n",
            "[CV] END degree=3, gamma=auto, kernel=linear, shrinking=False; total time=   9.1s\n",
            "[CV] END degree=3, gamma=auto, kernel=linear, shrinking=False; total time=   9.2s\n",
            "[CV] END degree=3, gamma=auto, kernel=linear, shrinking=False; total time=   8.9s\n",
            "[CV] END ...degree=3, gamma=auto, kernel=rbf, shrinking=True; total time=   8.3s\n",
            "[CV] END ...degree=3, gamma=auto, kernel=rbf, shrinking=True; total time=   8.2s\n",
            "[CV] END ...degree=3, gamma=auto, kernel=rbf, shrinking=True; total time=   8.3s\n",
            "[CV] END ..degree=3, gamma=auto, kernel=rbf, shrinking=False; total time=   8.2s\n",
            "[CV] END ..degree=3, gamma=auto, kernel=rbf, shrinking=False; total time=   8.5s\n",
            "[CV] END ..degree=3, gamma=auto, kernel=rbf, shrinking=False; total time=   8.4s\n",
            "[CV] END degree=3, gamma=auto, kernel=sigmoid, shrinking=True; total time=   8.3s\n",
            "[CV] END degree=3, gamma=auto, kernel=sigmoid, shrinking=True; total time=   8.3s\n",
            "[CV] END degree=3, gamma=auto, kernel=sigmoid, shrinking=True; total time=   8.4s\n",
            "[CV] END degree=3, gamma=auto, kernel=sigmoid, shrinking=False; total time=   8.3s\n",
            "[CV] END degree=3, gamma=auto, kernel=sigmoid, shrinking=False; total time=   8.3s\n",
            "[CV] END degree=3, gamma=auto, kernel=sigmoid, shrinking=False; total time=   8.3s\n",
            "[CV] END degree=5, gamma=scale, kernel=linear, shrinking=True; total time=   9.4s\n",
            "[CV] END degree=5, gamma=scale, kernel=linear, shrinking=True; total time=   9.3s\n",
            "[CV] END degree=5, gamma=scale, kernel=linear, shrinking=True; total time=   9.3s\n",
            "[CV] END degree=5, gamma=scale, kernel=linear, shrinking=False; total time=   9.3s\n",
            "[CV] END degree=5, gamma=scale, kernel=linear, shrinking=False; total time=   9.0s\n",
            "[CV] END degree=5, gamma=scale, kernel=linear, shrinking=False; total time=   8.9s\n",
            "[CV] END ..degree=5, gamma=scale, kernel=rbf, shrinking=True; total time=  11.9s\n",
            "[CV] END ..degree=5, gamma=scale, kernel=rbf, shrinking=True; total time=  11.7s\n",
            "[CV] END ..degree=5, gamma=scale, kernel=rbf, shrinking=True; total time=  11.7s\n",
            "[CV] END .degree=5, gamma=scale, kernel=rbf, shrinking=False; total time=  11.8s\n",
            "[CV] END .degree=5, gamma=scale, kernel=rbf, shrinking=False; total time=  11.9s\n",
            "[CV] END .degree=5, gamma=scale, kernel=rbf, shrinking=False; total time=  11.9s\n",
            "[CV] END degree=5, gamma=scale, kernel=sigmoid, shrinking=True; total time=   9.2s\n",
            "[CV] END degree=5, gamma=scale, kernel=sigmoid, shrinking=True; total time=   8.7s\n",
            "[CV] END degree=5, gamma=scale, kernel=sigmoid, shrinking=True; total time=   8.4s\n",
            "[CV] END degree=5, gamma=scale, kernel=sigmoid, shrinking=False; total time=   8.8s\n",
            "[CV] END degree=5, gamma=scale, kernel=sigmoid, shrinking=False; total time=   8.0s\n",
            "[CV] END degree=5, gamma=scale, kernel=sigmoid, shrinking=False; total time=   8.0s\n",
            "[CV] END degree=5, gamma=auto, kernel=linear, shrinking=True; total time=   9.0s\n",
            "[CV] END degree=5, gamma=auto, kernel=linear, shrinking=True; total time=   9.1s\n",
            "[CV] END degree=5, gamma=auto, kernel=linear, shrinking=True; total time=   8.9s\n",
            "[CV] END degree=5, gamma=auto, kernel=linear, shrinking=False; total time=   8.9s\n",
            "[CV] END degree=5, gamma=auto, kernel=linear, shrinking=False; total time=   8.9s\n",
            "[CV] END degree=5, gamma=auto, kernel=linear, shrinking=False; total time=   8.8s\n",
            "[CV] END ...degree=5, gamma=auto, kernel=rbf, shrinking=True; total time=   8.3s\n",
            "[CV] END ...degree=5, gamma=auto, kernel=rbf, shrinking=True; total time=   8.3s\n",
            "[CV] END ...degree=5, gamma=auto, kernel=rbf, shrinking=True; total time=   8.3s\n",
            "[CV] END ..degree=5, gamma=auto, kernel=rbf, shrinking=False; total time=   8.2s\n",
            "[CV] END ..degree=5, gamma=auto, kernel=rbf, shrinking=False; total time=   8.2s\n",
            "[CV] END ..degree=5, gamma=auto, kernel=rbf, shrinking=False; total time=   8.2s\n",
            "[CV] END degree=5, gamma=auto, kernel=sigmoid, shrinking=True; total time=   8.0s\n",
            "[CV] END degree=5, gamma=auto, kernel=sigmoid, shrinking=True; total time=   8.0s\n",
            "[CV] END degree=5, gamma=auto, kernel=sigmoid, shrinking=True; total time=   8.0s\n",
            "[CV] END degree=5, gamma=auto, kernel=sigmoid, shrinking=False; total time=   7.9s\n",
            "[CV] END degree=5, gamma=auto, kernel=sigmoid, shrinking=False; total time=   8.0s\n",
            "[CV] END degree=5, gamma=auto, kernel=sigmoid, shrinking=False; total time=   8.0s\n",
            "0.7743202416918429\n",
            "Best parameters: {'degree': 1, 'gamma': 'scale', 'kernel': 'linear', 'shrinking': False}\n",
            "\n"
          ]
        }
      ]
    },
    {
      "cell_type": "markdown",
      "source": [
        "The model yields a higher accuracy score after cross-validating with the grid. The best parameters in the grid are stored."
      ],
      "metadata": {
        "id": "XrYpr0978NH2"
      }
    }
  ],
  "metadata": {
    "accelerator": "GPU",
    "colab": {
      "collapsed_sections": [],
      "name": "Copy of Copy of Nameless Humans.ipynb",
      "provenance": []
    },
    "kernelspec": {
      "display_name": "Python 3",
      "name": "python3"
    },
    "language_info": {
      "name": "python"
    }
  },
  "nbformat": 4,
  "nbformat_minor": 0
}